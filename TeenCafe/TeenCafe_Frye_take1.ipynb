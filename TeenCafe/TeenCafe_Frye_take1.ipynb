{
 "cells": [
  {
   "cell_type": "markdown",
   "metadata": {
    "colab_type": "text",
    "id": "QpEBlevEtHDF"
   },
   "source": []
  },
  {
   "cell_type": "markdown",
   "metadata": {
    "colab_type": "text",
    "id": "-9xdkKRRtHDI"
   },
   "source": [
    "#### Cluster Lensing\n",
    "- This website is nice (insert reference here) \n",
    "- and so is this one (insert reference here too)\n",
    "\n",
    "\n",
    "\n",
    "#### Things we will learn:\n",
    "- What is a radian, an arcsecond, and what is the relation between them?\n",
    "- How can a measurement of angular size be related to a distance?\n",
    "- What is look-back time?\n",
    "- What is the definition of a redshift?\n",
    "- What is a galaxy cluster?  \n",
    "- What is a gravitational lens?  What is a giant arc?\n",
    "- What is dark matter?\n",
    "\n",
    "\n",
    "#### Exercises (things you will be able to do!):\n",
    "- Identify all the parts of a galaxy cluster, such as the galaxies in the foreground, the galaxies in the background, and the stars\n",
    "- Identify the giant arc\n",
    "- Measure the mean angular separation of the prominent giant arcs from the cluster center\n",
    "- Estimate the total mass of the cluster.\n",
    "\n",
    "\n",
    "#### And what's the point of the exercises?\n",
    "- Learn about a new unit of measurement\n",
    "- Learn some basic physics concepts\n",
    "- Learn some properties of lensed galaxies\n",
    "- Learn how some easy to understand assumptions can lead to detect the unseen dark matter"
   ]
  },
  {
   "cell_type": "markdown",
   "metadata": {
    "colab_type": "text",
    "id": "5mrknRr_tHD7"
   },
   "source": [
    "# 1.  - Introduction\n",
    "\n",
    "(Let us explain here what is a python code, and what is a comment line, etc).\n",
    "\n",
    "\n"
   ]
  },
  {
   "cell_type": "markdown",
   "metadata": {
    "colab_type": "text",
    "id": "KA8JlLGotHDa"
   },
   "source": [
    "## 1.1  Select your favorite galaxy cluster"
   ]
  },
  {
   "cell_type": "markdown",
   "metadata": {
    "colab_type": "text",
    "id": "5mrknRr_tHD7"
   },
   "source": [
    "Here are a handulf of different images of galaxy clusters.  Select one from the list below.  For the galaxy\n",
    "cluster that you selected, the galaxies in the lens will all have the same color.  The galaxies that are a different color will be in the background, and any object with \"nativity scene-like\" diffraction spikes are stars.  In the image that you selected, can you identify examples of each of these three different parts of a galaxy cluster?"
   ]
  },
  {
   "cell_type": "markdown",
   "metadata": {
    "colab_type": "text",
    "id": "KA8JlLGotHDa"
   },
   "source": [
    "## 1.2 Measure the radius of the arcs"
   ]
  },
  {
   "cell_type": "markdown",
   "metadata": {
    "colab_type": "text",
    "id": "NIegNeVktHEE"
   },
   "source": [
    "Now then, let us consider only the giant arcs.  How many do you find?  Can you also estimate the position that marks the center of the cluster? With that center in mind, can you estimate a circle that describes the circle that best fits the mean positions of the giant arcs?\n",
    "\n",
    "What is the radius of the circle that you fit?  Hint:  compare your radius with the reference key or \"plate scale\" in the lower left-hand corner of the image.  Your answer is also known as the \"angular size.\" An angular size can be converted to radians in the following way (insert reminder what we mean that 1 radian = 206,265 arcseconds here).\n",
    "\n"
   ]
  },
  {
   "cell_type": "markdown",
   "metadata": {
    "colab_type": "text",
    "id": "KA8JlLGotHDa"
   },
   "source": [
    "## 1.3 Measure the total mass"
   ]
  },
  {
   "cell_type": "markdown",
   "metadata": {
    "colab_type": "text",
    "id": "NIegNeVktHEE"
   },
   "source": [
    "\n",
    "What is the redshift of the cluster lens?  (Insert here a reminder of what the term redshift means.  The redshift corresponds to a distance.  (Insert here a reminder of this correlation).\n",
    "\n",
    "Compute the total mass using the formula given (help them to square the appropriate numbers and to multiply them together.  \n",
    "\n",
    "What is your answer ?  Note to make more sense of this incredibly-large number, we usually quote our answers in terms of solar masses (insert here what is a solar mass).  This number is still incredibly-high.  The mass of the Milky Way galaxy is xxx (insert value here).  What is your answer in terms of the number of Milky Ways??\n",
    "\n",
    "\n"
   ]
  },
  {
   "cell_type": "markdown",
   "metadata": {},
   "source": []
  }
 ],
 "metadata": {
  "anaconda-cloud": {},
  "colab": {
   "default_view": {},
   "name": "Class2_DM_Halos_and_Merger_Trees.ipynb",
   "private_outputs": true,
   "provenance": [],
   "version": "0.3.2",
   "views": {}
  },
  "kernelspec": {
   "display_name": "Python 3",
   "language": "python",
   "name": "python3"
  },
  "language_info": {
   "codemirror_mode": {
    "name": "ipython",
    "version": 3
   },
   "file_extension": ".py",
   "mimetype": "text/x-python",
   "name": "python",
   "nbconvert_exporter": "python",
   "pygments_lexer": "ipython3",
   "version": "3.7.3"
  }
 },
 "nbformat": 4,
 "nbformat_minor": 1
}
