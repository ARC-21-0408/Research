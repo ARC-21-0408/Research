{
 "cells": [
  {
   "cell_type": "markdown",
   "metadata": {
    "colab_type": "text",
    "id": "QpEBlevEtHDF"
   },
   "source": []
  },
  {
   "cell_type": "markdown",
   "metadata": {
    "colab_type": "text",
    "id": "-9xdkKRRtHDI"
   },
   "source": [
    "#### Cluster Lensing\n",
    "- This website is nice (insert reference here) \n",
    "- and so is this one (insert reference here too)\n",
    "\n",
    "\n",
    "\n",
    "#### Things we will learn:\n",
    "- What is a radian, an arcsecond, and what is the relation between them?\n",
    "- How can a measurement of angular size be related to a distance?\n",
    "- What is look-back time?\n",
    "- What is the definition of a redshift?\n",
    "- What is a galaxy cluster?  \n",
    "- What is a gravitational lens?  What is a giant arc?\n",
    "- What is dark matter?\n",
    "\n",
    "\n",
    "#### Exercises (things you will be able to do!):\n",
    "- Identify all the parts of a galaxy cluster, such as the galaxies in the foreground, the galaxies in the background, and the stars\n",
    "- Identify the giant arc\n",
    "- Measure the mean angular separation of the prominent giant arcs from the cluster center\n",
    "- Estimate the total mass of the cluster.\n",
    "\n",
    "\n",
    "#### And what's the point of the exercises?\n",
    "- Learn about a new unit of measurement\n",
    "- Learn some basic physics concepts\n",
    "- Learn some properties of lensed galaxies\n",
    "- Learn how some easy to understand assumptions can lead to detect the unseen dark matter"
   ]
  },
  {
   "cell_type": "markdown",
   "metadata": {
    "colab_type": "text",
    "id": "5mrknRr_tHD7"
   },
   "source": [
    "# 1.  - Introduction\n",
    "\n",
    "(Let us explain here what is a python code, and what is a comment line, etc).\n",
    "\n",
    "\n"
   ]
  },
  {
   "cell_type": "markdown",
   "metadata": {
    "colab_type": "text",
    "id": "KA8JlLGotHDa"
   },
   "source": [
    "\n",
    "\n",
    "## 1.1  Select your favorite galaxy cluster"
   ]
  },
  {
   "cell_type": "markdown",
   "metadata": {
    "colab_type": "text",
    "id": "5mrknRr_tHD7"
   },
   "source": [
    "Here are a handulf of different images of galaxy clusters.  Select one from the list below.  For the galaxy\n",
    "cluster that you selected, the galaxies in the lens will all have the same color.  The galaxies that are a different color will be in the background, and any object with \"nativity scene-like\" diffraction spikes are stars.  In the image that you selected, can you identify examples of each of these three different parts of a galaxy cluster?"
   ]
  },
  {
   "cell_type": "code",
   "execution_count": 6,
   "metadata": {},
   "outputs": [],
   "source": [
    "from matplotlib import pyplot as plt\n",
    "from PIL import Image\n",
    "import numpy as np\n",
    "\n",
    "\n"
   ]
  },
  {
   "cell_type": "code",
   "execution_count": 7,
   "metadata": {},
   "outputs": [
    {
     "ename": "OSError",
     "evalue": "cannot identify image file 'cluster1_a2218-crop.jpg'",
     "output_type": "error",
     "traceback": [
      "\u001b[0;31m---------------------------------------------------------------------------\u001b[0m",
      "\u001b[0;31mOSError\u001b[0m                                   Traceback (most recent call last)",
      "\u001b[0;32m<ipython-input-7-f828448a1c22>\u001b[0m in \u001b[0;36m<module>\u001b[0;34m\u001b[0m\n\u001b[0;32m----> 1\u001b[0;31m \u001b[0mGalaxy_img\u001b[0m \u001b[0;34m=\u001b[0m \u001b[0mImage\u001b[0m\u001b[0;34m.\u001b[0m\u001b[0mopen\u001b[0m\u001b[0;34m(\u001b[0m\u001b[0;34m'cluster1_a2218-crop.jpg'\u001b[0m\u001b[0;34m,\u001b[0m \u001b[0;34m'r'\u001b[0m\u001b[0;34m)\u001b[0m\u001b[0;34m\u001b[0m\u001b[0;34m\u001b[0m\u001b[0m\n\u001b[0m\u001b[1;32m      2\u001b[0m \u001b[0mGalaxy_img\u001b[0m\u001b[0;34m.\u001b[0m\u001b[0mshow\u001b[0m\u001b[0;34m(\u001b[0m\u001b[0;34m)\u001b[0m\u001b[0;34m\u001b[0m\u001b[0;34m\u001b[0m\u001b[0m\n",
      "\u001b[0;32m~/anaconda3/lib/python3.6/site-packages/PIL/Image.py\u001b[0m in \u001b[0;36mopen\u001b[0;34m(fp, mode)\u001b[0m\n\u001b[1;32m   2588\u001b[0m         \u001b[0mfp\u001b[0m\u001b[0;34m.\u001b[0m\u001b[0mclose\u001b[0m\u001b[0;34m(\u001b[0m\u001b[0;34m)\u001b[0m\u001b[0;34m\u001b[0m\u001b[0;34m\u001b[0m\u001b[0m\n\u001b[1;32m   2589\u001b[0m     raise IOError(\"cannot identify image file %r\"\n\u001b[0;32m-> 2590\u001b[0;31m                   % (filename if filename else fp))\n\u001b[0m\u001b[1;32m   2591\u001b[0m \u001b[0;34m\u001b[0m\u001b[0m\n\u001b[1;32m   2592\u001b[0m \u001b[0;31m#\u001b[0m\u001b[0;34m\u001b[0m\u001b[0;34m\u001b[0m\u001b[0;34m\u001b[0m\u001b[0m\n",
      "\u001b[0;31mOSError\u001b[0m: cannot identify image file 'cluster1_a2218-crop.jpg'"
     ]
    }
   ],
   "source": [
    "Galaxy_img = Image.open('cluster1_a2218-crop.jpg', 'r')\n",
    "Galaxy_img.show()"
   ]
  },
  {
   "cell_type": "markdown",
   "metadata": {
    "colab_type": "text",
    "id": "KA8JlLGotHDa"
   },
   "source": [
    "## 1.2 Measure the radius of the arcs"
   ]
  },
  {
   "cell_type": "markdown",
   "metadata": {
    "colab_type": "text",
    "id": "NIegNeVktHEE"
   },
   "source": [
    "Now then, let us consider only the giant arcs.  How many do you find?  Can you also estimate the position that marks the center of the cluster? With that center in mind, can you estimate a circle that describes the circle that best fits the mean positions of the giant arcs?\n",
    "\n",
    "What is the radius of the circle that you fit?  Hint:  compare your radius with the reference key or \"plate scale\" in the lower left-hand corner of the image.  Your answer is also known as the \"angular size.\" An angular size can be converted to radians in the following way (insert reminder what we mean that 1 radian = 206,265 arcseconds here).\n",
    "\n"
   ]
  },
  {
   "cell_type": "code",
   "execution_count": null,
   "metadata": {
    "scrolled": true
   },
   "outputs": [],
   "source": [
    "\n",
    "radius = 320 #Adjust for radius size of circle to match ring arcs\n",
    "x = 650  #adjust x,y position of circle on galaxy cluster center \n",
    "y = 690\n",
    "\n",
    "\n"
   ]
  },
  {
   "cell_type": "code",
   "execution_count": null,
   "metadata": {},
   "outputs": [],
   "source": [
    "theta = np.linspace(0, 2*np.pi, 100)\n",
    "x1 = radius*np.cos(theta) + x\n",
    "x2 = radius*np.sin(theta) + y\n",
    "\n",
    "\n",
    "\n",
    "fig, ax = plt.subplots(figsize=(17,17))\n",
    "imgplot = plt.imshow(Galaxy_img)\n",
    "ax.plot(x, y, color='green', marker='o', linewidth=2, markersize=12)\n",
    "ax.plot(x1, x2, linewidth=2)\n",
    "\n",
    "\n",
    "plt.xticks(np.arange(0, 2183, 100)) \n",
    "plt.yticks(np.arange(0, 1111, 100)) \n",
    "ax.set_aspect(1)"
   ]
  },
  {
   "cell_type": "code",
   "execution_count": null,
   "metadata": {},
   "outputs": [],
   "source": [
    "Angular_size_radius_arcseconds = r/23.33 #scaling pixels to arcseconds, using plate scale\n",
    "\n",
    "Angular_size_radius_radians = Angular_size_radius_arcseconds/206265\n",
    "\n",
    "\n",
    "print(Angular_size_radius_radians, 'Radians')\n",
    "\n"
   ]
  },
  {
   "cell_type": "markdown",
   "metadata": {
    "colab_type": "text",
    "id": "KA8JlLGotHDa"
   },
   "source": [
    "## 1.3 Measure the total mass"
   ]
  },
  {
   "cell_type": "markdown",
   "metadata": {
    "colab_type": "text",
    "id": "NIegNeVktHEE"
   },
   "source": [
    "What is the redshift of the cluster lens?  (Insert here a reminder of what the term redshift means.  The redshift corresponds to a distance.  (Insert here a reminder of this correlation).\n",
    "\n",
    "Compute the total mass using the formula given (help them to square the appropriate numbers and to multiply them together. \n",
    "\n",
    "What is your answer ?  Note to make more sense of this incredibly-large number, we usually quote our answers in terms of solar masses (insert here what is a solar mass).  This number is still incredibly-high.  The mass of the Milky Way galaxy is xxx (insert value here).  What is your answer in terms of the number of Milky Ways??\n",
    "\n",
    "\n"
   ]
  },
  {
   "cell_type": "markdown",
   "metadata": {},
   "source": [
    "# Redshift"
   ]
  },
  {
   "cell_type": "markdown",
   "metadata": {},
   "source": [
    "Redshift occurs when the wavelength of light increases from the time it is emitted from the source until it reaches the observer. This happens when the source is moving away from the observer causing the wavelenght of light to stretch. We can observe this by looking at the source's spectrum as we will see a shift in the absoprtion or emmision lines. \n",
    "\n",
    "Knowing the redshift we can estimate the distance to the source. The farther away the source the more distance the light has to travel so the greater the distance to greater redshift will be observed. "
   ]
  },
  {
   "cell_type": "markdown",
   "metadata": {},
   "source": [
    "Redshift can be expressed in terms of the rest wavelength and the observed wavelength which will have increased\n",
    "\n",
    "z = (λobs - λrest)/λrest\n",
    "\n",
    "Redshift can also be desbrived in terms of the velocity of the galaxy cluster, where c is the speed of light\n",
    "\n",
    "z = v / c\n",
    "\n",
    "Solving for v we an find a relationship to the Distance, D \n",
    "\n",
    "v = HoD\n",
    "\n",
    "where Ho is hubble cosntant\n",
    "\n",
    "Finally we can combine both equations to obtain an expression for distance to the galaxy cluster where:\n",
    "\n",
    "D = zc/Ho\n",
    "\n"
   ]
  },
  {
   "cell_type": "markdown",
   "metadata": {},
   "source": [
    "if the redshift of galaxy cluster Abell 2118 is \n",
    "\n",
    "z = 0.1756\n",
    "\n",
    "we can solve for Distance to galaxy cluster"
   ]
  },
  {
   "cell_type": "code",
   "execution_count": null,
   "metadata": {
    "scrolled": false
   },
   "outputs": [],
   "source": [
    "z = 0.1756\n",
    "Ho = 71         #Hubble's consant in km/s Mpc where Mpc is megaparsecs \n",
    "c = 299792458   #speed of light\n",
    "\n",
    "D = (z*c)/(1000*Ho)  #calculating for Distance, must multiply Hubble's constant to convert km to m\n",
    "\n",
    "\n",
    "print('Distance =', D, 'Mpc')"
   ]
  },
  {
   "cell_type": "markdown",
   "metadata": {},
   "source": [
    "As consequence of Einstein's thoery of general relativity, light rays are deflected by gravity. This phememona is known as gravitional lensing. A simplified equation derived by Einstein can help describe the galaxy cluster as a gravitional lens given:\n",
    "\n",
    "θ = (4GM/Dc^2)\n",
    "\n",
    "Using this we calcualte for the total mass of the galaxy cluster\n",
    "\n",
    "M = (θDc^2)/4G\n",
    "\n",
    "Where θ is the angular size of the ring. (which we calcualted in section 1.2), D is the galaxy cluster distance and G is the gravitational constant. "
   ]
  },
  {
   "cell_type": "code",
   "execution_count": null,
   "metadata": {},
   "outputs": [],
   "source": [
    "θ = Angular_size_radius_radians \n",
    "G = 6.674*10**-11\n",
    "\n"
   ]
  },
  {
   "cell_type": "code",
   "execution_count": null,
   "metadata": {
    "scrolled": false
   },
   "outputs": [],
   "source": [
    "M = (θ*D*(3.086*10**22)*c**2)/(4*G)\n",
    "print('mass =', M, 'kg')"
   ]
  },
  {
   "cell_type": "markdown",
   "metadata": {},
   "source": [
    "We can describe this value in terms of the mass of the Sun. Or Solar masses. For example, if a given galaxy is 10000 solar masses, its mass is equal to 10000 of our Sun. "
   ]
  },
  {
   "cell_type": "code",
   "execution_count": null,
   "metadata": {
    "scrolled": true
   },
   "outputs": [],
   "source": [
    "Msun = 1.989*10**30 #Mass of Sun, in kg\n",
    "\n",
    "Msolar = M/Msun # taking the mass of the galaxy cluster and converting it in terms of Solar mass\n",
    "\n",
    "print('Mass =', Msolar, 'Solar Masses') "
   ]
  },
  {
   "cell_type": "markdown",
   "metadata": {},
   "source": [
    "This value is still very large. Therefore we can further desribe the mass of the galaxy cluster in terms of our galaxy, the Milky way.\n",
    "\n",
    "The mass of the Milkyway is 1.5 trillion Molar masses"
   ]
  },
  {
   "cell_type": "code",
   "execution_count": null,
   "metadata": {},
   "outputs": [],
   "source": [
    "Mmilkway = 1.5*10**12\n",
    "Mcluster = Msolar/Mmilkway\n",
    "print('Mass =', Mcluster, 'Milkyway Masses') "
   ]
  },
  {
   "cell_type": "markdown",
   "metadata": {},
   "source": []
  }
 ],
 "metadata": {
  "anaconda-cloud": {},
  "colab": {
   "default_view": {},
   "name": "Class2_DM_Halos_and_Merger_Trees.ipynb",
   "private_outputs": true,
   "provenance": [],
   "version": "0.3.2",
   "views": {}
  },
  "kernelspec": {
   "display_name": "Python 3",
   "language": "python",
   "name": "python3"
  },
  "language_info": {
   "codemirror_mode": {
    "name": "ipython",
    "version": 3
   },
   "file_extension": ".py",
   "mimetype": "text/x-python",
   "name": "python",
   "nbconvert_exporter": "python",
   "pygments_lexer": "ipython3",
   "version": "3.6.8"
  }
 },
 "nbformat": 4,
 "nbformat_minor": 1
}
