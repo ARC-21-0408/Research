{
 "cells": [
  {
   "cell_type": "markdown",
   "metadata": {
    "colab_type": "text",
    "id": "QpEBlevEtHDF"
   },
   "source": [
    "<br>\n",
    "<br>\n",
    "<font size='6'><u><b>Gravitational Lensing</b></u></font>\n",
    "<br>\n",
    "\n",
    "___"
   ]
  },
  {
   "cell_type": "markdown",
   "metadata": {
    "colab_type": "text",
    "id": "-9xdkKRRtHDI"
   },
   "source": [
    "#### Cluster Lensing\n",
    "- This website is nice (insert reference here) \n",
    "- and so is this one (insert reference here too)\n",
    "\n",
    "\n",
    "\n",
    "#### Things we will learn:\n",
    "- What is a radian, an arcsecond, and what is the relation between them?\n",
    "- How can a measurement of angular size be related to a distance?\n",
    "- What is look-back time?\n",
    "- What is the definition of a redshift?\n",
    "- What is a galaxy cluster?  \n",
    "- What is a gravitational lens?  What is a giant arc?\n",
    "- What is dark matter?\n",
    "\n",
    "\n",
    "#### Exercises (things you will be able to do!):\n",
    "- Identify all the parts of a galaxy cluster, such as the galaxies in the foreground, the galaxies in the background, and the stars\n",
    "- Identify the giant arc\n",
    "- Measure the mean angular separation of the prominent giant arcs from the cluster center\n",
    "- Estimate the total mass of the cluster.\n",
    "\n",
    "\n",
    "#### And what's the point of the exercises?\n",
    "- Learn about a new unit of measurement\n",
    "- Learn some basic physics concepts\n",
    "- Learn some properties of lensed galaxies\n",
    "- Learn how some easy to understand assumptions can lead to detect the unseen dark matter"
   ]
  },
  {
   "cell_type": "markdown",
   "metadata": {},
   "source": [
    "# Table of Contents\n",
    "\n",
    "* [How to Use This Notebook](#How-to-Use-This-Notebook)\n",
    "* [Pre-Activity Setup](#Pre-Activity-Setup)\n",
    "* [](#)\n",
    "    * [](#)\n",
    "___"
   ]
  },
  {
   "cell_type": "markdown",
   "metadata": {},
   "source": [
    "# How to Use This Notebook\n",
    "\n",
    "The webpage you are in is actually an app - much like the ones on your cellphone. This app consists of cells.\n",
    "\n",
    "An *input* cell looks like a light grey box with an `In [ ]:` on its left. Input cells each contain code - instructions to make the computer do something.\n",
    "\n",
    "To activate or select a cell, click anywhere inside of it.\n",
    "\n",
    "<div class='alert alert-info'>\n",
    "    <font size='3'><b>Select the cell below and read its contents.</b></font>\n",
    "</div>"
   ]
  },
  {
   "cell_type": "code",
   "execution_count": 1,
   "metadata": {},
   "outputs": [],
   "source": [
    "# Text that follows a \"#\" is known as a comment.\n",
    "# Comments do not affect your code in any way.\n",
    "# You should always read the comments at the top of each cell you interact with.\n",
    "# Comments will be used to describe what the cell's code is actually doing."
   ]
  },
  {
   "cell_type": "markdown",
   "metadata": {},
   "source": [
    "To execute or run a selected cell, hit `[Shift + Enter]` on your keyboard.\n",
    "\n",
    "<div class='alert alert-info'>\n",
    "    <font size='3'><b>Select the cell below and read its contents. Then, run the cell.</b></font>\n",
    "</div>"
   ]
  },
  {
   "cell_type": "code",
   "execution_count": 2,
   "metadata": {},
   "outputs": [
    {
     "name": "stdout",
     "output_type": "stream",
     "text": [
      "Congrats! You have successfully run your first cell!\n"
     ]
    }
   ],
   "source": [
    "# Text that DOESN'T follow a \"#\" is considered code.\n",
    "# Lines of code are instructions given to your computer.\n",
    "# The line of code below is a \"print\" statement.\n",
    "# A print statement literally prints out the text between its quotes.\n",
    "\n",
    "print(\"Congrats! You have successfully run your first cell!\")"
   ]
  },
  {
   "cell_type": "markdown",
   "metadata": {},
   "source": [
    "Running a cell creates an *output* directly below it. An output can be some text, a graph, an interactive slider, or even nothing at all! For that last case, you know you have run a cell when the `In [ ]:` becomes `In [#]:`, where \"#\" is any number.\n",
    "\n",
    "You can learn more about how Jupyter notebooks work at https://try.jupyter.org/\n",
    "___"
   ]
  },
  {
   "cell_type": "markdown",
   "metadata": {},
   "source": [
    "# Pre-Activity Setup\n",
    "\n",
    "In order for any of the activities to work properly, you must import the libraries needed for the code in this notebook.\n",
    "\n",
    "<div class='alert alert-info'>\n",
    "    <font size='3'><b>Select and run the cell below.</b></font>\n",
    "</div>"
   ]
  },
  {
   "cell_type": "code",
   "execution_count": 3,
   "metadata": {},
   "outputs": [],
   "source": [
    "# Import necessary modules.\n",
    "#%gui\n",
    "import numpy as np\n",
    "%matplotlib inline\n",
    "import matplotlib.pyplot as plt\n",
    "from matplotlib import cm\n",
    "from ipywidgets import *\n",
    "#from IPython.core.display import Image, display\n",
    "#from drawingpanel import *"
   ]
  },
  {
   "cell_type": "markdown",
   "metadata": {},
   "source": [
    "___"
   ]
  },
  {
   "cell_type": "markdown",
   "metadata": {
    "colab_type": "text",
    "id": "5mrknRr_tHD7"
   },
   "source": [
    "# 1.  - Introduction\n",
    "\n",
    "(Let us explain here what is a python code, and what is a comment line, etc).\n",
    "\n",
    "\n"
   ]
  },
  {
   "cell_type": "markdown",
   "metadata": {
    "colab_type": "text",
    "id": "KA8JlLGotHDa"
   },
   "source": [
    "## 1.1  Select your favorite galaxy cluster"
   ]
  },
  {
   "cell_type": "markdown",
   "metadata": {
    "colab_type": "text",
    "id": "5mrknRr_tHD7"
   },
   "source": [
    "Here are a handful of different images of galaxy clusters.  Select one from the list below.  For the galaxy\n",
    "cluster that you selected, the galaxies in the lens will all have the same color.  The galaxies that are a different color will be in the background, and any object with \"nativity scene-like\" diffraction spikes are stars.  In the image that you selected, can you identify examples of each of these three different parts of a galaxy cluster?"
   ]
  },
  {
   "cell_type": "code",
   "execution_count": 4,
   "metadata": {
    "scrolled": false
   },
   "outputs": [
    {
     "data": {
      "application/vnd.jupyter.widget-view+json": {
       "model_id": "882e2f2e2a5c4abdbad68f42555dfa7c",
       "version_major": 2,
       "version_minor": 0
      },
      "text/plain": [
       "Box(children=(Image(value=b'\\xff\\xd8\\xff\\xe0\\x00\\x10JFIF\\x00\\x01\\x01\\x01\\x00H\\x00H\\x00\\x00\\xff\\xfe\\x00\\x17Crea…"
      ]
     },
     "metadata": {},
     "output_type": "display_data"
    }
   ],
   "source": [
    "file = open(\"ab2218.jpg\", \"rb\")\n",
    "image = file.read()\n",
    "image_n = 1\n",
    "\n",
    "# Create the interactive widget.\n",
    "def f(cluster):\n",
    "    global image_n\n",
    "    if cluster == 'Image 1':\n",
    "        image_n = 1\n",
    "    if cluster == 'Image 2':\n",
    "        image_n = 2\n",
    "    if cluster == 'Image 3':\n",
    "        image_n = 3\n",
    "    if cluster == 'Image 4':\n",
    "        image_n = 4\n",
    "\n",
    "layout = {'width':'initial', 'flex':'1'}\n",
    "layout1 = {'flex':'1'}\n",
    "layout2 = {'flex':'1'}\n",
    "layout3 = {'flex':'1'}\n",
    "layout4 = {'flex':'1'}\n",
    "box_layout = {'display':'flex', 'flex_flow':'row wrap', 'border':'5px solid grey', 'width':'initial'}\n",
    "\n",
    "#imt1 = HTML(value='<b>Image 1</b>', width='40%', layout=layout1)\n",
    "#imt2 = HTML(value='<b>Image 2</b>', width='40%', layout=layout2)\n",
    "#imt3 = HTML(value='<b>Image 3</b>', width='40%', layout=layout3)\n",
    "#imt4 = HTML(value='<b>Image 4</b>', width='40%', layout=layout4)\n",
    "im1 = Image(value=image, format='png', width='40%', layout=layout1)\n",
    "im2 = Image(value=image, format='png', width='40%', layout=layout2)\n",
    "im3 = Image(value=image, format='png', width='40%', layout=layout3)\n",
    "im4 = Image(value=image, format='png', width='40%', layout=layout4)\n",
    "cluster = ToggleButtons(options=['Image 1', 'Image 2', 'Image 3', 'Image 4'], description='Choose:', layout=layout)\n",
    "\n",
    "interactive(f, cluster=cluster)\n",
    "Box([im1, im2, im3, im4, cluster], layout=box_layout)\n",
    "#Box([im1, im2, im3, im4, Box([cluster])], layout=box_layout)"
   ]
  },
  {
   "cell_type": "markdown",
   "metadata": {
    "colab_type": "text",
    "id": "KA8JlLGotHDa"
   },
   "source": [
    "## 1.2 Measure the radius of the arcs"
   ]
  },
  {
   "cell_type": "markdown",
   "metadata": {
    "colab_type": "text",
    "id": "NIegNeVktHEE"
   },
   "source": [
    "Now then, let us consider only the giant arcs.  How many do you find?  Can you also estimate the position that marks the center of the cluster? With that center in mind, can you estimate a circle that describes the circle that best fits the mean positions of the giant arcs?\n",
    "\n",
    "What is the radius of the circle that you fit?  Hint:  compare your radius with the reference key or \"plate scale\" in the lower left-hand corner of the image.  Your answer is also known as the \"angular size.\" An angular size can be converted to radians in the following way (insert reminder what we mean that 1 radian = 206,265 arcseconds here).\n",
    "\n"
   ]
  },
  {
   "cell_type": "code",
   "execution_count": 5,
   "metadata": {},
   "outputs": [],
   "source": [
    "# Code for overlayed circles with adjustable sliders for radius and position."
   ]
  },
  {
   "cell_type": "markdown",
   "metadata": {
    "colab_type": "text",
    "id": "KA8JlLGotHDa"
   },
   "source": [
    "## 1.3 Measure the total mass"
   ]
  },
  {
   "cell_type": "markdown",
   "metadata": {
    "colab_type": "text",
    "id": "NIegNeVktHEE"
   },
   "source": [
    "What is the redshift of the cluster lens?  (Insert here a reminder of what the term redshift means.  The redshift corresponds to a distance.  (Insert here a reminder of this correlation).\n",
    "\n",
    "Compute the total mass using the formula given (help them to square the appropriate numbers and to multiply them together.  "
   ]
  },
  {
   "cell_type": "code",
   "execution_count": 6,
   "metadata": {},
   "outputs": [],
   "source": [
    "# Code for functions used to compute total mass."
   ]
  },
  {
   "cell_type": "markdown",
   "metadata": {
    "colab_type": "text",
    "id": "NIegNeVktHEE"
   },
   "source": [
    "What is your answer ?  Note to make more sense of this incredibly-large number, we usually quote our answers in terms of solar masses (insert here what is a solar mass).  This number is still incredibly-high.  The mass of the Milky Way galaxy is xxx (insert value here).  What is your answer in terms of the number of Milky Ways??"
   ]
  }
 ],
 "metadata": {
  "anaconda-cloud": {},
  "colab": {
   "default_view": {},
   "name": "Class2_DM_Halos_and_Merger_Trees.ipynb",
   "private_outputs": true,
   "provenance": [],
   "version": "0.3.2",
   "views": {}
  },
  "kernelspec": {
   "display_name": "Python 3",
   "language": "python",
   "name": "python3"
  },
  "language_info": {
   "codemirror_mode": {
    "name": "ipython",
    "version": 3
   },
   "file_extension": ".py",
   "mimetype": "text/x-python",
   "name": "python",
   "nbconvert_exporter": "python",
   "pygments_lexer": "ipython3",
   "version": "3.6.8"
  }
 },
 "nbformat": 4,
 "nbformat_minor": 1
}
