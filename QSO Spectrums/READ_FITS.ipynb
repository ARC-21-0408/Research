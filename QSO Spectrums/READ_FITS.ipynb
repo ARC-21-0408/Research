{
 "cells": [
  {
   "cell_type": "markdown",
   "metadata": {
    "colab_type": "text",
    "id": "QpEBlevEtHDF"
   },
   "source": [
    "# Week 4:  Intergalactic Medium and Feedback"
   ]
  },
  {
   "cell_type": "markdown",
   "metadata": {
    "colab_type": "text",
    "id": "-9xdkKRRtHDI"
   },
   "source": [
    "#### Reading\n",
    "- Chapter 16 in MvDBW; Chapter 9.7 in MvDBW\n",
    "\n",
    "- Helpful slides from Frank van den Bosch:\n",
    "  * http://www.astro.yale.edu/vdbosch/astro610_lecture17.pdf\n",
    "\n",
    "\n",
    "#### Things we will learn (or review):\n",
    "- The physical condictions in the IGM\n",
    "- The heating and cooling mechanisms operating within the IGM\n",
    "- The methods used to measure opacity in the IGM\n",
    "- The contenders for the sources that reionized the IGM\n",
    "- How reionization proceeded\n",
    "- The mechanisms that heated up the ISM and regulated the star formation efficiency\n",
    "- How SN blast waves evolve over time\n",
    "- Supernova feedback\n",
    "\n",
    "\n",
    "#### Exercises (things you will be able to do!):\n",
    "- Compute the mean effective H I opacity of the diffuse IGM directly given a QSO spectrum of your choice.\n",
    "- Review why photoionization of gas clouds works well only up to $\\sim few \\times 10^4$ K.\n",
    "- Review the Stromgren sphere radius and related properties.\n",
    "\n",
    "\n",
    "#### And what's the point of the exercises?\n",
    "- Learn how to download and work with your own data from the SDSS archive\n",
    "- Learn some properties of the Lyman-alpha forest\n",
    "- Learn about the proximity zone surroundig QSOs"
   ]
  },
  {
   "cell_type": "markdown",
   "metadata": {
    "colab_type": "text",
    "id": "5mrknRr_tHD7"
   },
   "source": [
    "# 1.  The IGM - Introduction\n",
    "\n",
    "The IGM makes a significant contribution to our understanding of how galaxies form and evolve, as galaxies accrete their star forming material in part from the H I reservoirs that surround them.  The IGM is low density but by no means deserted.  Rather strikingly, if you sum up the total mass in stars in the present-day universe, it equates to $<$10% of the total number of baryons expected from cosmic nucleosynthesis and from observations of the CMB.  Some of this baryonic inventory is made up by the cool and cold gas in galaxies, and some other part of it by the hot gas in the centers of clusters of galaxies, but even then we are still missing about $\\sim$50% of the total number of baryons.  We look to the IGM to find these missing baryons.  Let us study the IGM in two ways:  (1) by absorption towards bright background objects, and (2) by emission.\n",
    "\n",
    "\n"
   ]
  },
  {
   "cell_type": "markdown",
   "metadata": {
    "colab_type": "text",
    "id": "KA8JlLGotHDa"
   },
   "source": [
    "## 1.1  The Ionization State of the IGM"
   ]
  },
  {
   "cell_type": "markdown",
   "metadata": {
    "colab_type": "text",
    "id": "5mrknRr_tHD7"
   },
   "source": [
    "The universe cools as it expands.  By a redshift of $z \\sim 1300$, the temperature of the cosmic microwave background (CMB) cooled below 10,000 K, enabling the combination of the first neutral atoms.  We call this the epoch of \"recombination\" (although it really an epoch of \"first combination\").  Moving along, the CMB continues to cool as it expands as given by the function $T_{\\gamma} = 2.736(1+z)$ K.  Also, a difference arises between the temperatures of the baryons and the photons, in the sense that the baryons cool faster.  This probably happened because not every single electron recombined.  As a result, a small fraction of free electrons was able transfer a large amount of energy from the CMB to the gas by Compton scattering.  This process would succeed to keep the baryon and photon temperatures the same until a redshift of $z \\sim 150$. We think the electrons will never recombine at the 100% level, with the probability of the recombination rate decreasing with cosmic time due to cosmological expansion. At the epoch when the recombination rate becomes less than the expansion rate, the number of ionized electrons levels off at an ionization fraction of $X_e \\equiv n_e/n \\sim 10^{-5}-10^{-3}$.  As the standard lore goes, cosmic time progresses until $z \\approx 6.5$ when the universe subsequently reionizes in an event called the \"epoch of reionization.\"  Is this story correct?  If so, then when, and how, and with which sources, did this happen?  \n",
    "   \n",
    "A powerful approach to study the IGM is to consider the absorption properties towards a bright background source. This observational technique is sensitive to low column density absorption systems.  It is also limited in that we must probe foreground objects only by making use of the \"randomly\" situated bright background sources that are given to us.  Say a source at  redshift $z_e$ and frequency $\\nu$ has luminosity $\\mathcal{L}(\\nu)d\\nu$.  If the light propagates in a vacuum then the flux at $z=0$ is:  $F(\\nu)d\\nu = \\frac{\\mathcal{L}[\\nu(1+z_e)]}{4\\pi d_L^2}(1+z_e)d\\nu$, where $d_L$ is the luminosity distance.  This just says that the spectral energy distribution is stretched by the cosmological expansion.\n",
    "\n",
    "Now then, if we introduce a purely absorbing gas, then some photons will get scattered out of the line-of-sight.  This provides a source of opacity, $\\tau$.  We can write an expression for this attenuation of light as: \n",
    "$n_{\\gamma}(\\nu_e,t) = e^{-\\tau} n_{\\gamma}(\\nu_e,t_e)$, where $n_{\\gamma}(\\nu_e,t_e)$ is the number density of photons at the source at frequency $\\nu_e$ and time $t_e$, and \n",
    "$n_{\\gamma}(\\nu_e,t)$ is the number density of photons observed.\n",
    "\n",
    "The absorption often takes place in bound transitions between energy states $E_1$ and $E_2$, such that $E_2 > E_1$.  This transition requires a photon with a frequency corresponding to this energy difference of $\\nu_{12} \\equiv (E_2-E_1)/h$.  The excited electron will then emit light by spontaneous or stimulated emission as it falls back down to the ground state.  Note given the rarefied nature of the IGM, and the efficiency of the radiative processes, most of the time the electrons will be in the ground state.  Of the emission options, spontaneous emission scatters light randomly in all directions, while stimulated emission propagates in the direction of the light source.  We write the mean optical depth at observed \n",
    "frequency $\\nu_0$ as the sum of pure absorption and the (opposing) stimulated emission.\n",
    "\n",
    "At the wavelength of the Ly$\\alpha$ line at a rest wavelength of 1216 Anstroms the light from a background source gets readily absorbed by the diffuse IGM.  By the \"Ly$\\alpha$ forest\"\n",
    "we refer to the set of absorption lines along the line-of-sight seen towards the bright source (often a QSO).  One Ly$\\alpha$ absorption line appears for each H I absorbing cloud along the line-of-sight, which means the absorption is stretched out to different wavelengths.  The sum total of all the H I absorption gives us a measure of the H I opacity, which is a strong function of redshift.  At high redshifts, $z \\gtrsim 6.5$, the absorption is complete (or nearly-so in many cases).  We interpret this to mean that the IGM contains bound H I atoms at the level of $10^{-3}$ or lower.  For $z < 6.5$, the becomes incomplete (patchy).  The absorption pattern often appears as a set of dozens of individual absorption lines comprising the \"trees\" of the Ly$\\alpha$ forest.  The overall depression of the\n",
    "mean continuum level provided by the Ly$\\alpha$ forest absorption relative to the unattenuated spectrum is referred to as the \"Gunn-Peterson\" effect.  In sum, the Ly$\\alpha$% forest is densely populated with absorption at higher redshifts, and thins out towards lower redshifts.  We can compute the effective H I opacity, $\\tau_{eff}$, observationally for a given sightline.  The method is straightforward.  The procedure is to estimate the flux in the continuum $F_{cont}(\\lambda)$, and the flux in the observed\n",
    "spectrum $F_{obs}(\\lambda)$.  One then computes $\\tau_{eff}$ as:  $ \\tau_{eff} = - ln \\big (\\frac{<F_{obs}(\\lambda)>}{<F_{cont}(\\lambda)>} \\big )$.  Let's compute $\\tau$ for an actual QSO from the Sload Digital Sky Survey (SDSS)!\n"
   ]
  },
  {
   "cell_type": "code",
   "execution_count": 1,
   "metadata": {
    "colab": {
     "autoexec": {
      "startup": false,
      "wait_interval": 0
     }
    },
    "colab_type": "code",
    "id": "zd_JfyoKtHD8"
   },
   "outputs": [
    {
     "data": {
      "text/plain": [
       "(-2, 4)"
      ]
     },
     "execution_count": 1,
     "metadata": {},
     "output_type": "execute_result"
    }
   ],
   "source": [
    "import matplotlib\n",
    "import matplotlib.pyplot as plt\n",
    "fig = plt.figure()\n",
    "\n",
    "import numpy as np  \n",
    "from astropy.io import fits\n",
    "from decimal import Decimal\n",
    "matplotlib.rcParams.update({'font.size': 18}) \n",
    "\n",
    "# Problem:  Plot up the QSO spectrum, make simple estimates of the mean value for\n",
    "# F_cont and F_obs, and compute tau_eff.\n",
    "\n",
    "# Read in QSO data file here.  Go to the website below and undertake a search for QSOs.\n",
    "# Hint:  All you need to do is fill out the \"Rectangle\" entry under \"Position Constraints\" and \n",
    "# the redshift range and Classification (QSO) under \"Spectroscopy Constraints.\" Here is the website:  \n",
    "# http://skyserver.sdss.org/dr14/en/tools/search/SQS.aspx\n",
    "# Once you have generated a list of QSOs, record the Plate, mjd, and fiber ID numbers.\n",
    "# Now, go to the SDSS DR15 SkySurver website, click on \"Search\" in the upper left of the page,\n",
    "# and enter in the Plate-MJD-Fiber numbers into the upper right portion of the search engine.  \n",
    "#http://skyserver.sdss.org/dr14/en/tools/explore/summary.aspx#\n",
    "# Voila!  You can now select your favorite spectrum, download it, and proceed!\n",
    "\n",
    "#Read in the data and see what you have.  Uncomment the fits.open line, and see which columns are wavelength and flux.\n",
    "hdul = fits.open('spec-4632-55644-0198.fits', memmap=True)  \n",
    "# hdul.info()\n",
    "data = hdul[1].data\n",
    "cols = hdul[1].columns\n",
    "#cols.info() # prints out the names of the columns\n",
    "#print(data[0]) # prints out the first row of data (first element of each of column)\n",
    "\n",
    "# Extract the wavelength (in units of \"log Angstroms\"), and flux (in units of \"10e-17 erg/s/cm^2/Angstrom\") \n",
    "# Call the wavelength \"wl\" and the flux \"flux\".  \n",
    "wavetmp = data.field('loglam')\n",
    "wl = 10**wavetmp  \n",
    "flux = data.field('flux') \n",
    "                     \n",
    "# Plot up the QSO spectrum. \n",
    "# call the plot parameter of \"drawstyle='steps-mid'\" to see exactly where the data points are.\n",
    "\n",
    "fig, ax = plt.subplots(figsize=(10,6))\n",
    "ax.plot(wl, flux,drawstyle='steps-mid')\n",
    "ax.set(xlabel='Observed Wavelength (Angstroms)', xscale = 'linear', ylabel='Flux (x 10^-17 erg/s/cm^2/Ang)', yscale = 'linear')\n",
    "#fig.savefig('xyz.png')  #If you want to save the plot\n",
    "ax.set_xlim(4000, 5800)\n",
    "ax.set_ylim(-2,4)\n",
    "\n",
    "# Identify the Lya line at the QSO redshift, and the Lya forest.  What else do you identify?"
   ]
  },
  {
   "cell_type": "markdown",
   "metadata": {
    "colab_type": "text",
    "id": "NIegNeVktHEE"
   },
   "source": [
    "How does your answer compare with the published value, which is $\\tau_{eff}(z) = 0.85 \\pm 0.06) \\times \\left ( \\frac{1+z}{5} \\right )^{4.3\\pm0.3}$, for $z \\lesssim 5.5$ (Fan et al. 2006, AJ, 132, 117)."
   ]
  },
  {
   "cell_type": "markdown",
   "metadata": {
    "colab_type": "text",
    "id": "yv-ktgaTtHEF"
   },
   "source": [
    "### 1.2  Ionizing Sources\n",
    "\n",
    "Now then, which astronomical sources are responsible for reionizing the universe?  \n",
    "\n",
    "Any sources under consideration would need to generate photons with energies exceeding the ionization energy for H, corresponding to a wavelength $\\lambda \\lesssim 1216$ Angstroms.  the punchline is that we think QSOs and young galaxies provided the dominant sources of reionizing photons at the lower- and higher-redshifts, respectively. \n",
    "\n",
    "The radiation from QSOs in the UV has an intrinsic specific intensity, $J$, that decreases roughly directly inversely with frequency, as shown in the accompanying figure as the dashed line.  This function gives the ionizing background in the absence of an IGM. On taking absorption by H atoms in the IGM into account, the total attentuation is shown by the solid line.  This function shows two prominent continuum breaks which correspond to the H I ionization edge (1 Ryd) and the He II ionization edge (~4 Ryd), respectively.  Note, for those unfamiliar with this unit, 1 Ryd is the wavenumber equating to the ionization energy.  \n",
    "\n",
    "<img src=\"Fig_HaartMadau_sm.png\">\n",
    "\n",
    "Figure 1: Specific intensity of the UV background as a function of wavenumber (Rydbergs).\n",
    "In the absence of a UV background, $J$ varies inversely with wavenumber (dashed line).  On taking attenuation by the IGM into account (solid line), continuum breaks appear near to the resonance transitions of H ($\\sim$1 Ryd), and of He ($\\sim$3-4 Ryd).  This figure was adapted from Haardt & Madau 2012.\n",
    "\n",
    "QSOs have a significant effect on their environments; namely, they ionize large regions of space which can extend to radii of 8 $h^{-1}$ Mpc.\n",
    "This so-called \"proximity effect\" introduces an additional source of ionizing flux which results in fewer Ly$\\alpha$ cloud absorbers owing to a decrease in H atoms.  Since the additional source of UV photons is the culprit, one can use the proximity effect as a means to measure $J(\\nu)$ for the UV background.   We can get $J(\\nu)$ for the QSO from the QSO luminosity and spectrum.  Then based on the size of the proximity zone, and the properties of the QSO, we can solve for UV background component.  The best published value is:  $J(1Ry) = (0.1 \\rightarrow 1) \\times 10^{-21} erg s^{-1}cm^{-2}Hz^{-1}sr^{-1}$, over the redshift range\n",
    "$z=2$-$4$."
   ]
  },
  {
   "cell_type": "code",
   "execution_count": 2,
   "metadata": {
    "colab": {
     "autoexec": {
      "startup": false,
      "wait_interval": 0
     }
    },
    "colab_type": "code",
    "id": "zd_JfyoKtHD8"
   },
   "outputs": [
    {
     "ename": "NameError",
     "evalue": "name 'cont' is not defined",
     "output_type": "error",
     "traceback": [
      "\u001b[0;31m---------------------------------------------------------------------------\u001b[0m",
      "\u001b[0;31mNameError\u001b[0m                                 Traceback (most recent call last)",
      "\u001b[0;32m<ipython-input-2-ef626da37372>\u001b[0m in \u001b[0;36m<module>\u001b[0;34m()\u001b[0m\n\u001b[1;32m      8\u001b[0m \u001b[0max\u001b[0m\u001b[0;34m.\u001b[0m\u001b[0mset_ylim\u001b[0m\u001b[0;34m(\u001b[0m\u001b[0;34m-\u001b[0m\u001b[0;36m2\u001b[0m\u001b[0;34m,\u001b[0m\u001b[0;36m4\u001b[0m\u001b[0;34m)\u001b[0m\u001b[0;34m\u001b[0m\u001b[0;34m\u001b[0m\u001b[0m\n\u001b[1;32m      9\u001b[0m \u001b[0;34m\u001b[0m\u001b[0m\n\u001b[0;32m---> 10\u001b[0;31m \u001b[0max\u001b[0m\u001b[0;34m.\u001b[0m\u001b[0mplot\u001b[0m\u001b[0;34m(\u001b[0m\u001b[0mwl\u001b[0m\u001b[0;34m,\u001b[0m\u001b[0mcont\u001b[0m\u001b[0;34m,\u001b[0m\u001b[0;34m'C1'\u001b[0m\u001b[0;34m)\u001b[0m  \u001b[0;31m# Overplot the continuum.\u001b[0m\u001b[0;34m\u001b[0m\u001b[0;34m\u001b[0m\u001b[0m\n\u001b[0m\u001b[1;32m     11\u001b[0m \u001b[0;34m\u001b[0m\u001b[0m\n\u001b[1;32m     12\u001b[0m \u001b[0;34m\u001b[0m\u001b[0m\n",
      "\u001b[0;31mNameError\u001b[0m: name 'cont' is not defined"
     ]
    },
    {
     "data": {
      "image/png": "[encoded data removed]",
      "text/plain": [
       "<Figure size 720x432 with 1 Axes>"
      ]
     },
     "metadata": {},
     "output_type": "display_data"
    }
   ],
   "source": [
    "# After all that hard work, let us return to that QSO spectrum.  \n",
    "# Let us plot it up again.\n",
    "\n",
    "fig, ax = plt.subplots(figsize=(10,6))\n",
    "ax.plot(wl, flux,drawstyle='steps-mid')\n",
    "ax.set(xlabel='Observed Wavelength (Angstroms)', xscale = 'linear', ylabel='Flux (x 10^-17 erg/s/cm^2/Ang)', yscale = 'linear')\n",
    "ax.set_xlim(4000, 5800)\n",
    "ax.set_ylim(-2,4)\n",
    "\n",
    "ax.plot(wl,cont,'C1')  # Overplot the continuum.\n",
    "\n",
    "\n",
    "# Before we start, let's compute the upper wavelength corresponding to the edge \n",
    "# of the proximity zone at the redshift of your QSO: wv_pz:edge.\n",
    "\n",
    "h       = .72     # H_0/100.\n",
    "wl_lya  = 1215.67 # Rest wavelength of the Lya line, in Angstroms\n",
    "zpz     = 0.15    # Generously-large value for the redshift interval of the proximity zone\n",
    "\n",
    "zQSO    = 3.118       # Enter in the value for the redshift of the QSO you selected.\n",
    "zpz_start  = zQSO-zpz # starting redshift of the proximity zone.\n",
    "\n",
    "wl_pz_edge = (1.+zpz_start)*wl_lya\n",
    "\n",
    "# Part One.  Compute tau_eff outside the proximity zone, \n",
    "# in the \"standard\" IGM.\n",
    "#\n",
    "# Start by selecting a lower bound on the wavelength, as the upper bound is already set to be \n",
    "# the outer edge of the proximity zone.\n",
    "# Find the nearest pixel corresponding to the wavelength range selected.\n",
    "\n",
    "wvlo=4500.  # Enter the value of for the lower wavelength bound.\n",
    "wvhi=wl_pz_edge\n",
    "#def find_nearest(wv,value):\n",
    "#    idx= (np.abs(wv - value)).argmin()\n",
    "#    return idx\n",
    "\n",
    "idxlo=(find_nearest(wl,wvlo))\n",
    "idxhi=(find_nearest(wl,wvhi))\n",
    "\n",
    "# Overplot this range, as a visual aid.\n",
    "\n",
    "ax.plot(wl[idxlo:idxhi],flux[idxlo:idxhi],'C3')\n",
    "\n",
    "# Now compute the mean value for the continuum, and for the object data over the wavelength (index) range selected.\n",
    "mean_cont = np.mean(cont[idxlo:idxhi])\n",
    "mean_obj  = np.mean(flux[idxlo:idxhi])\n",
    "\n",
    "# And to finish Part One of this exercise, \n",
    "# compute tau_eff in the standard IGM.\n",
    "\n",
    "tau_eff = np.log(mean_obj/mean_cont)*(-1.)\n",
    "\n",
    "tau_eff_show = ('%4.2f' % tau_eff)\n",
    "print (\"The Gunn Peterson optical depth in the standard IGM =\",tau_eff_show)\n",
    "\n",
    "# PART TWO.  Compute tau_eff inside the proximity zone.\n",
    "\n",
    "wvhi_pz=4955.  # Enter a value for the upper wavelength that excludes the Lya emission line!     \n",
    "idxhi_pz=(find_nearest(wl,wvhi_pz))\n",
    "\n",
    "# Find the mean value for the continuum, and for the object data over the wavelength (index) range selected.\n",
    "mean_cont_pz = np.mean(cont[idxhi:idxhi_pz])\n",
    "mean_obj_pz  = np.mean(flux[idxhi:idxhi_pz])\n",
    "\n",
    "# Overplot this range in a different color/linestyle in this region, as a visul aid.\n",
    "\n",
    "ax.plot(wl[idxhi:idxhi_pz],flux[idxhi:idxhi_pz],'C5')\n",
    "plt.show()\n",
    "\n",
    "# Compute tau_eff \n",
    "# We want the average unabsorbed continuum flux and the average object flux.\n",
    "\n",
    "tau_eff_pz = np.log(mean_obj_pz/mean_cont_pz)*(-1.)\n",
    "\n",
    "tau_eff_show_pz = ('%4.2f' % tau_eff_pz)\n",
    "print (\"The Gunn Peterson optical depth in the proximity zone =\",tau_eff_show_pz)\n",
    "\n",
    "# Compare the two values that you computed for tau_eff, and comment on the difference (or lack thereof).\n",
    "# Note, the continuum placement dominates the error.  In this case,\n",
    "# an estimate of your measurement uncertainty can be estimated by asking what is the highest,\n",
    "# and the lowest, continuum levels that can be tolerated.  As a bonus,\n",
    "# try reporting your values for tau_eff with uncertainties.\n",
    "# How will a more accurate continuum shape affect your result.\n",
    "# You may change the continuum shape to improve the precision\n",
    "# of your result.\n",
    "\n"
   ]
  },
  {
   "cell_type": "markdown",
   "metadata": {
    "colab_type": "text",
    "id": "yv-ktgaTtHEF"
   },
   "source": [
    "### 1.3  The Evolution of the IGM\n",
    "\n",
    "If we imagine regions of the IGM as a Newtonian fluid, then IGM properties can be explored using the standard fluid equations (see Appendix B in MvDBW for more details).  For a start, we need to know the sources of heating and cooling.  A primary heating source is photoionization, for which a photon ionizes an atom, with the extra energy transferred into the motion of the electron.  If the IGM started out cold, then it can heat up by photoionization, but only to a temperature of $T \\sim 3 \\times 10^4$ K.  In the absence of any other heating or cooling sources, it will subsequently cool owing to the adiabatic expansion of the universe.  For class, review why photoionization of gas clouds work only up to $T \\sim 3 \\times 10^4$ K?  Which process(es) prevent photoionization from heating up the gas to still higher temperatures? \n",
    "\n",
    "A thermal cloud that is able to reach high temperatures of $\\simeq T \\sim 3 \\times 10^4$ K can cool by using the high number of electrons in the cloud by Compton-scattering off of incident CMB photons.  It works as follows:  a typical thermal gas cloud has free electrons at temperature $T_e$, such that $k_B T_e <<m_e c^2$.  In free-free interactions, CMB photons exchange energy with electrons in the cloud.  For a photon temperature $T_{\\gamma}$ such that $T_{\\gamma}<<T_e$, the result is that the exiting photon will carry away the excess energy.  This process is called \"Compton cooling.\"  The caveat is that the mechanism only works if the Compton cooling time is smaller than the age of the universe $t_{cool} < t$.  This condition is met for a typical cloud at $z_{comp} \\approx 6$.  Now then, thermal clouds that are heated above the typical $T$ can cool back down to the nominal $\\sim3 \\times 10^4$ K by Compton cooling provided that the heating took place at $z>z_{comp}$.  Otherwise, this cooling mechanism is insufficient and the cloud will maintain its temperature.\n",
    "\n",
    "A second heating source is shock-heating.  The collapse of matter as a result of density perturbations will shock-heat the entrained gas into a 2D disk-like structure, or\n",
    "into a narrow cosmic filament, or into a dark matter halo.  The temperatures of this Warm-Hot Medium (WHIM) should reach $\\sim 10^{5-6}$ K.  At such temperatures, H will be completely ionized.  Even so, this region has been probed using hydrogen-like ions of metals such as OVI and NV.  The experiment involves doing careful QSO absorption line studies in an approach similar to the first exercise of this Workbook.\n",
    "\n",
    "We can take first steps to understand a common heating source by reviewing the case of the expanding H II region.  We consider the simple case of a pure H I gas cloud of constant density.  If a single source of ionizing photons turns on in the center (a star), then this source will abruptly modify the physical conditions in the cloud.  We make the assumption that each source photon with a wavelength smaller than or equal to the Lyman-limit will ionize a single H-atom. This free electron will subsequently recombine to the ground state at a recombination rate per unit volume $\\mathcal{R}$, and then instantly get ionized again by the constant and relentless bath of ionizing photons produced at rate $\\dot{N}_{\\gamma}$.  The photoionization will heat up this new H II region to a temperature $T_I \\approx 10^4$ K.  An equilibrium is reached for which the number of ionizations is equal to the number of recombinations, or \n",
    "\n",
    "$$\\dot{N}_{\\gamma} = \\frac{4}{3}\\pi r_i^3 \\mathcal{R}$$.\n",
    "\n",
    "$\\mathcal{R}$ is a two-body process requiring both an electron and a proton for each recombination.  We can write $\\mathcal{R} \\propto n_p n_e$, where for charge neutrality we simplify the number density such that $n_p = n_e = n_I$.  We have $\\mathcal{R} = \\alpha_H n_I^2$,\n",
    "where $\\alpha_H$ is the constant of proportionality.  On substituting and solving for the radius $r$, also known as the Stromgren sphere radius, we have:  \n",
    "\n",
    "$$r_i = \\left ( \\frac{3\\dot{N}_{\\gamma}}{4\\pi \\alpha_H n_I^2} \\right )^{1/3}$$\n",
    "\n",
    "PROBLEM:  Be able to derive the Stromgren sphere radius.\n",
    "\n",
    "All this suddenly-ionized gas will want to expand, and will collect ambient material as it propagates outward.  The expansion continues until an equilibrium is reached with the surrounding cloud.  For the gas conditions we can write:  $2n_f T_{II} = 2n_i T_{I}$,\n",
    "where $n_f$ is the final number density of ions and $T_{II}$ is the final temperature of the gas.  The final radius of the expanding H II region is $r_f = r_i\\left ( \\frac{2T_{II}}{T_I} \\right )^{2/3}$.\n",
    "\n",
    "To understand reionization, \n",
    "we build and extend this expanding H II region scenario to larger scales.  At high redshifts, ($z > 10$), we can image a series of ionizing sources turning out in the centers of clouds.  We would expect that the few ionizing sources, and high IGM densities, would make H II regions at large physical separations.  Then, as more sources emerge and produce additional ionized regions, the regions would start to overlap with each other other Ultimately, the universe would completely re-ionize when the volume filling factor reached a value of one (see Barkana & Loeb; Ciardi & Ferrara 2005).\n",
    "\n",
    "<img src=\"fig_BarkanaLoeb.png\">\n",
    "\n",
    "Figure 2: Cartoon depicting the overall process of reionization of the universe by way of overlapping H II regions.  For $z$ = 10-30, the first stars form and produce individual H II regions.  As massive stars are clustered, within a short time (~$10^6$ yrs), another SN event takes place.  The SNe proximate H II regions overlap, and eventually overtake the entire IGM.  This figure comes from Barkana & Loeb 2007.\n",
    "\n",
    "Now then, the recombination timescale is comparable to the Hubble time at $z \\approx 8$.  This means it is possible for a population of sources to reionize the universe at early times, recombine, and then ionize a second time at $z=6.5$.  Some have proposed that the so-called \"Pop III\" stars could have comprised of this early ionizing source.  Astronomers have long searched for this proposed population of sources which would have only existed at high redshifts.  It is possible that we will find Pop III stars using the JWST.\n",
    "\n",
    "Finally, the 21 cm spin-flip transition of H can be used to probe reionization directly, because the physical conditions arising in H gas that is heats up will change its spin temperature.  We will surely hear more about this powerful probe in the future as observatories such as the Square Kilometer Array (SKA) see first-light.  For an introduction, see papers by Barkana & Loeb 2007 and Ciardi & Ferrara 2005).\n",
    "\n",
    "\n"
   ]
  },
  {
   "cell_type": "markdown",
   "metadata": {
    "colab_type": "text",
    "id": "a_qXnHGetHEx"
   },
   "source": [
    "## 2.  Feedback from Supernovae and Massive Stars\n",
    "\n",
    "Supernovae (SNe) heat up the ISM into a hot phase, thereby suppressing the formation of another generation of stars.  We cover here the progenitors of SNe, then move on to discuss SN feedback, galactic winds and mass loading, modeling SN feedback, the evolution of blastwaves, and radiation pressure.\n",
    "\n",
    "## 2.1 Supernova Progenitors\n",
    "\n",
    "Supernovae are not all alike.  There are only two broad categories:  type Ia or Ib, and type II.  The latter type shows H absorption lines in the spectrum, and type Ia's show strong Si absorption.  It is important to review the SNa types as observations of SN Ia's in particular were used to make the startling discovery of universal acceleration.\n",
    "\n",
    "SN 1a: although occasionally there are still controversies, the concensus is that the progenitor is a C/O white dwarf in a binary system consisting also of a Main Sequence star.  In this scenario, material from the outer layers of the star overflows its Roche lobe and gets accreted onto the white dwarf.  This process ensues until the Chandrasekhar mass is reached, at which point the C and O fuse rapidly into heavier elements, up to Fe.  A SN 1a is produced.  This explosion is very efficient in that all the material returns to the ISM, with the understanding that no remnant is left behind.  SN 1a's can appear in any galaxy type, lending circumstantial evidence that SN 1a's are a product of evolved stars.  \n",
    "\n",
    "The mass of the star that will become the white dwarf is probably in the range $2 \\lesssim M \\lesssim 8 M_{\\odot}$.  Interestingly, while the mass of this progenitor Main Sequence star is not well known, the masses of white dwarfs all weigh in at about $0.68 \\pm 0.13 M_{\\odot}$, with only a small scatter (Tremblay et al. 2016, MNRAS).  The reason for this narrow mass range is an open question.  The benefit of knowing the mass, and knowing that all of the WD participates in the explosion, means that each time a SN event takes place, it is the conversion of $\\sim 0.7 M_{\\odot}$ of material into energy.  Indeed the luminosities of SN Ia's produce luminosities over a narrow range about the vale $L_B = 9.6 \\times 10^9 L_{\\odot}$.  \n",
    "\n",
    "SN II:  the progenitors are massive Main Sequence \"O-type\" stars with masses \n",
    "$M > 8 M_{\\odot}$.  We think every massive star ends its life as a SN II, and that such events occur at a rate of $R_{II}(t) = \\int_{M_{up}}^{M_u} \\frac{\\phi(M)}{M_{\\odot}} dM $\n",
    "\n",
    "\n",
    "## 2.2 The \"overcooling\" problem and SN feedback\n",
    "\n",
    "Dark matter halos have a steep mass function, such that the number for low masses decreases as $\\propto M^{-1.9}$ (Reed et al. 2007).  This implies that the galaxies that form inside the halos should have a similar mass function.  Instead, galaxies have a much shallower mass function which is $\\propto M^{-1}$ (Cole et al. 2001).  Heat injection from SNe can suppress the star formation at low masses.  Even so, this hot gas does cool off, which in the end can lead to the overproduction of stellar material (Benson et al. 2003).  This \"overcooling\" problem requires some additional source of heating to keep at least some of the gas out of the star formation cycle.  The natural mechanisms invoked to supply this heat are SNe, stellar winds, and AGN.\n",
    "\n",
    "\n",
    "<img src=\"fig_Burrows_SN.png\" height=\"300\" width=\"300\">\n",
    "\n",
    "Figure 3:  The mass function at low masses is significantly steeper for dark matter halos.\n",
    "The standard interpretation is that baryons are preferentially lost from the dark matter halos owing to SN feedback.  This figure comes from an AY541 Lecture by A. Burrows.\n",
    "\n",
    "A single SN can eject a mass $M_{ej}$ from the center of a dark matter halo.  The energy required  is $E_{ej} = \\frac{1}{2}M_{ej} V_{esc}^2$, where $V_{esc}$ is the escape velocity from a Navarro, Frenk & White (NFW) halo.  We can express this as $V_{esc} \\simeq \\sqrt{6c}V_{vir}$, where $c$ is the dark matter halo concentration.  On combining, we get $E_{ej} = 3cM_{ej}V_{vir}^2$.  \n",
    "\n",
    "The energy produced by the SN is $E_{SN} \\approx 10^{51} ergs$, and the energy \n",
    "available for heating up the gas (as opposed to just radiating away), is $E_{fb}$.  We can write $E_{fb} = \\epsilon_{SN} \\zeta M_* E_{SN}$, where \n",
    "$\\epsilon_{SN}$ is the efficiency factor that is less than or equal to 1, and $\\zeta \n",
    "\\approx 0.01 M_{\\odot}^{-1}$ is the number of SNe produced per solar mass of stars formed.\n",
    "\n",
    "On setting $E_{ej}$ equal to $E_{fb}$ and applying our value for $\\zeta$ we get the equation of interest:\n",
    "$$\\frac{M_{ej}}{M_*} \\simeq 0.4\\epsilon_{SN} \\left ( \\frac{c}{10} \\right )^{-1}\\left ( \\frac{V_{vir}}{200 km/s} \\right )^{-2}$$  We see that even if all of the SN energy goes into powering a galactic wind ($\\epsilon_{SN} = 1$), then the one SN can only eject about 0.4  of a stellar mass.\n",
    "\n",
    "SN reheating - a single SN can also direct its energy into heating up the ISM gas.  The internal energy of an ideal gas is $E_{int} = \\frac{3}{2} M_{gas} \\frac{k_B T}{\\mu m_p}$.  Let us say that we want to heat the gas from an initial temperature of $T=10^4$ K to the virial temperature of the halo, $m\n",
    "T_{vir} = \\frac{\\mu m_p}{2k_B} V_{vir}^2$, then this requires an energy\n",
    "$E_f - E_i = E_{reheat} = \\frac{3}{2}M_{gas}\\frac{k_B(T_{vir}-T_{init})}{\\mu m_p}$.  To compare with $E_{ej}$, we can set $E_{reheat} = E_{ej}$ to get:\n",
    "\n",
    "$$\\frac{M_{gas}}{M_*} \\simeq 17\\epsilon_{SN}\\left ( \\frac{V_{vir}}{200 km/s} \\right )^{-2}\\left (1- \\frac{T_{init}}{T_{vir}} \\right )^{-1} $$\n",
    "\n",
    "In sum, reheating is more efficient than ejecting the gas from the halo by a factor of $\\sim$10.  \n",
    "AGN feedback is most efficient of all, and this mechanism may be especially effective at lower redshifts, $z\\lesssim2$.\n",
    "\n",
    "\n",
    "## 2.3  Mass loading and scaling relations\n",
    "\n",
    "A supernova can heat the surrounding gas and also transport mass out of a galaxy. \n",
    "Let $\\dot{M}_W$ be the rate at which mass is loaded onto a galactic wind and \n",
    "ejected from a galaxy.  The ratio $\\eta = \\frac{\\dot{M}_W}{\\dot{M}_*}$ is the mass loading parameter which quantifies this effect.  The details of how this supernova feedback process works are not yet understood.  The most common approaches to this problem are given below.\n",
    "\n",
    "Energy-driven winds -  We assume that $v_W \\propto V_{vir}$, and $\\eta \\propto V_{vir}^2$.  The rate of kinetic energy provided by the wind is $\\dot{E}_W = \\frac{1}{2} \\dot{M}_W v_W^2$, and we write the energy available to be converted into kinetic energy of a galactic wind as:  $\\dot{E}_{fb} = \\epsilon_{SN}\\zeta \\dot{M}_* E_{SN}$.  On setting these two energies equal to each other we get:  $\\eta= \\eta_0 \\left ( \\frac{V_{vir}}{200 km/s}\\right )^{-2}$,\n",
    "where $\\eta_0 = \\frac{2\\epsilon_{SN}\\zeta E_{SN}}{(200 km/s)^2}$.  Models that make use of energy-driven winds still tend to overproduce stars in low mass galaxies unless the star forming efficiency is high, $\\epsilon_{SN} \\sim 1$.\n",
    "\n",
    "Momentum-driven winds - We assume that $v_W \\propto V_{vir}$.  The rate of momentum imparted to the wind is $\\dot{M}_W v_W \\propto \\dot{M}_*$.  From this, we can write $\\eta= \\eta_0 \\left ( \\frac{V_{vir}}{200 km/s}\\right )^{-2}$.  Here the physical mechanism driving the wind is radiation pressure acting on dust grains.  This model results in a shallower scaling with halo mass, such that the stellar mass function is steeper at the low mass end.  This approach has the benefit of reproducing better the size-mass relation with disks (Dutton and van den Bosch 2009), and enrichment of the high redshift IGM (Oppenheimer and Davé 2006).  \n",
    "\n",
    "Some make use of a constant wind velocity approach.  Here the wind velocity and mass loading parameters are constants.  The reasoning is that if the winds are really driven by SNe, then the winds should not depend on the dark matter halo mass.  In this case the stellar mass function is much steeper at the low-mass end.  Others invoke a power-law - this approach offers the most flexibility as $\\eta$ and $\\alpha_{fb}$ are left as free parameters, so we can write:  $\\eta = \\eta_0 \\left ( \\frac{V_{vir}}{200 km/s}\\right )^{- \\alpha_{fb}}$.  High values of $\\alpha{fb}$ are required to get a good match to the stellar mass function (e.g., Cole et al. 1994; Guo  et al. 2011).\n",
    "\n"
   ]
  },
  {
   "cell_type": "markdown",
   "metadata": {
    "colab_type": "text",
    "id": "a_qXnHGetHEx"
   },
   "source": [
    "## 2.4 Blast Waves\n",
    "\n",
    "Consider one star that explodes as a SN in a medium of constant number density $n_H$ and temperature $T$.  The SN ejects a mass of $M_{ej}$ and generates an energy of $\\sim10^{51}$ ergs.  We introduce a new energy unit \"$E_{51}$\" to be $E_{SN} = 10^{51} E_{51}$ erg.  The root-mean-square (RMS) velocities of the ejecta are $<v_{ej}> = \\left( \\frac{2E_{SN}}{M_{ej}}\\right )^{1/2}$,\n",
    "where $v_{ej} \\simeq 10^4$ km s$^{-1}$ $\\left ( \\frac{M_{ej}}{M_{\\odot}}\\right)^{-1/2}$, much higher than the sound speed $c$ that we worked out in Workbook \\#3 for the cold phase of the ISM.  The SN will drive a fast shock into the ISM which is the blast wave.  We divide the blast wave into four phases:  (1) free expansion, (2) Sedov-Taylor (adiabatic), (3) radiative, and (4) momentum.  \n",
    "\n",
    "Free-expansion phase - the SN propagates outward unhindered by its surroundings with a constant velocity.  This phase ends when the remnant shell of mass $M_{sh}$ collects an amount of material equal to $M_{ej}$.  We can write:  \n",
    "$$M_{sh} = M_{ej} = \\frac{4\\pi}{3}r_{sh}^3\\rho$$\n",
    "\n",
    "which is realized for \n",
    "$$t_f = 189 yr \\left ( \\frac{M_{ej}}{M_{\\odot}}\\right)^{5/6}\\left ( \\frac{n_H}{cm^{-3}}\\right)^{-1/3}$$\n",
    "\n",
    "$$r_{sh}=1.9 pc \\left (\\frac{M_{ej}}{M_{\\odot}}\\right)^{1/3}\\left ( \\frac{n_H}{cm^{-3}}\\right)^{-1/3}$$\n",
    "\n",
    "Free-expansion is a short-lived, and short-range, phase.\n",
    "\n",
    "Sedov-Taylor phase - The blast wave next transitions into an adiabatic expansion.\n",
    "\n",
    "It is useful to remind yourself how to use energy conservation to show that $r_{sh} \\propto  (E/n_H)^{1/5} t^{2/5}$.  The expression, scaled to typical values, is:  \n",
    "\n",
    "$$r_{sh} = 32 pc \\ E_{51}^{1/5}\\left ( \\frac{n_H}{cm^{-3}}\\right)^{-1/5}\\left ( \\frac{t}{10^5 yr}\\right)^{2/5}$$\n",
    "\n",
    "$$v_{sh} = 124 km/s \\ E_{51}^{1/5}\\left ( \\frac{n_H}{cm^{-3}}\\right)^{-1/5}\\left ( \\frac{t}{10^5 yr}\\right)^{-3/5}$$\n",
    "\n",
    "The shocked material is heated up directly behind the outwardly-moving shock wave, to $T_s = \\frac{3}{16}\\frac{\\mu m_p}{k_B}v_{sh}^2$, which for typical values equates to $T_s \\approx 3 \\times 10^6$ K, with $T_s$ increasing towards the center.  By this temperature, the ejecta radiate strongly in the X-rays.\n",
    "\n",
    "Radiative phase - Eventually, the expanding shell of swept-up material cools by radiating in the high ionization metal lines (C IV, N V, O VI).  Meanwhile, hot rarefied gas interior to the shell is still very hot, and exerts an outward pressure.  This is a momentum-conserving phase.  The density is highest just behind the shock so the cooling is also highest there.  \n",
    "\n",
    "Recall from ISM class that by equating the momentum of the outward-propagating shell to the shell pressure multiplied by the shell area, show that $r_{sh} \\propto \\frac{1}{\\rho_0}t^{2/7}$.\n",
    "Note in this adaibatic phase that the pressure $P$ relates to density $\\rho$ as:  $P \\propto \\rho^{\\gamma} \\propto \\left ( \\frac{M}{r_{sh}^3}\\right )^{5/3}$.\n",
    "\n",
    "Momentum (snowplow):  Once the hot rarefied gas cools and comes into pressure equilibrium with the ambient medium, the expanding shell is driven outward only by its own momentum.  Here the shell continues to collect material in its wake as it propagates outward, much like a terrestrial \"snowplow.\"  The motion continues by its inertia, such that:  $M_{sh}v_{sh} = constant$.  The shell slows down, breaks apart in part by instabilities arising from the hot gas punching through the cool outer shell by the \"Rayleigh-Taylor\" instabilities, and assimilates with the surrounding ISM.  In this scenario only 0.01 of the energy released by the SN goes into the kinetic energy of the gas, with the rest being radiated away. This efficiency rises with the temperature and number density of the gas, such as in the Hot Ionized Medium (HIM).\n",
    "\n",
    "## Galaxy-wide Gas Outflows\n",
    "\n",
    "Ideally we are interested in the galaxy-wide impact of SNe. SN feedback becomes more efficient when the bursts take place in ensembles whose expanding remnants overlap.  Here, if the ISM is heated to $T>T_{vir}$, then the hot gas will escape into the halo through a galactic \"chimney.\"  Meanwhile, if $T<T_{vir}$ then gas will heat up the ISM and usefully regulate the star formation efficiency.  \n",
    "\n",
    "One can ask the question under which physical conditions can SN feedback be efficient?  Within a time $t_{rad}$ a SN achieves a radius $r_{rad}$. Within this bubble, another SN remnant will overlap with it depending on the values for $\\zeta$ and the mass density rate, $\\dot{\\rho}_*$.  This condition is met for:\n",
    "\n",
    "$$\\zeta \\dot{\\rho}_* \\geq \\frac{3}{4\\pi r_{rad}^3 t_{rad}}$$\n",
    "\n",
    "We can write the expression for the star formation rate (SFR) density $\\dot{\\Sigma}_*$ as $\\dot{\\Sigma}_* = \\frac{\\dot{\\rho}_*}{2H}$,\n",
    "where $H$ is the scale height.  On solving for $\\dot{\\Sigma}_*$ we get:\n",
    "$$\\dot{\\Sigma}_* > 18.3 M_{\\odot} kpc^{-2} yr^{-1}\\left ( \\frac{H}{0.2 kpc}\\right)\\left ( \\frac{\\zeta}{10^{-2}M_{\\odot}^{-1}}\\right)^{-1}\\left ( \\frac{n_H}{cm^{-3}}\\right)^{1.82} $$\n",
    "\n",
    "To think about for discussion in class:  Is this a \"starburst\" galaxy?  What are the SFRs, and number densities of the molecular gas in starbursts?  \n",
    "\n",
    "\n",
    "  \n"
   ]
  },
  {
   "cell_type": "markdown",
   "metadata": {
    "colab": {
     "autoexec": {
      "startup": false,
      "wait_interval": 0
     }
    },
    "colab_type": "code",
    "id": "zd_JfyoKtHD8"
   },
   "source": [
    "import matplotlib\n",
    "import matplotlib.pyplot as plt\n",
    "import numpy as np  \n",
    "from astropy.io import fits\n",
    "\n",
    "matplotlib.rcParams.update({'font.size': 18}) \n",
    "\n",
    "#Help !  I do not know the best questions to ask to build up the skills to use SAMs to help us to understand SN feedback!  Thank you very much for your offer to introduce a few relevant exercises.   --Brenda\n",
    "\n"
   ]
  },
  {
   "cell_type": "markdown",
   "metadata": {},
   "source": []
  }
 ],
 "metadata": {
  "anaconda-cloud": {},
  "colab": {
   "default_view": {},
   "name": "Class2_DM_Halos_and_Merger_Trees.ipynb",
   "private_outputs": true,
   "provenance": [],
   "version": "0.3.2",
   "views": {}
  },
  "kernelspec": {
   "display_name": "Python 3",
   "language": "python",
   "name": "python3"
  },
  "language_info": {
   "codemirror_mode": {
    "name": "ipython",
    "version": 3
   },
   "file_extension": ".py",
   "mimetype": "text/x-python",
   "name": "python",
   "nbconvert_exporter": "python",
   "pygments_lexer": "ipython3",
   "version": "3.6.8"
  }
 },
 "nbformat": 4,
 "nbformat_minor": 1
}
