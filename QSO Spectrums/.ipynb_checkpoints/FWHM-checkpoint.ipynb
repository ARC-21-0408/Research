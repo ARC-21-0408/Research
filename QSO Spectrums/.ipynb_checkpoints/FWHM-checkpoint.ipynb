{
 "cells": [
  {
   "cell_type": "code",
   "execution_count": 3,
   "metadata": {},
   "outputs": [
    {
     "data": {
      "text/plain": [
       "(-2, 12)"
      ]
     },
     "execution_count": 3,
     "metadata": {},
     "output_type": "execute_result"
    }
   ],
   "source": [
    "import matplotlib\n",
    "import matplotlib.pyplot as plt\n",
    "fig = plt.figure()\n",
    "\n",
    "import numpy as np  \n",
    "from astropy.io import fits\n",
    "from decimal import Decimal\n",
    "matplotlib.rcParams.update({'font.size': 18}) \n",
    "\n",
    "# Problem:  Plot up the QSO spectrum, make simple estimates of the mean value for\n",
    "# F_cont and F_obs, and compute tau_eff.\n",
    "\n",
    "# Read in QSO data file here.  Go to the website below and undertake a search for QSOs.\n",
    "# Hint:  All you need to do is fill out the \"Rectangle\" entry under \"Position Constraints\" and \n",
    "# the redshift range and Classification (QSO) under \"Spectroscopy Constraints.\" Here is the website:  \n",
    "# http://skyserver.sdss.org/dr14/en/tools/search/SQS.aspx\n",
    "# Once you have generated a list of QSOs, record the Plate, mjd, and fiber ID numbers.\n",
    "# Now, go to the SDSS DR15 SkySurver website, click on \"Search\" in the upper left of the page,\n",
    "# and enter in the Plate-MJD-Fiber numbers into the upper right portion of the search engine.  \n",
    "#http://skyserver.sdss.org/dr14/en/tools/explore/summary.aspx#\n",
    "# Voila!  You can now select your favorite spectrum, download it, and proceed!\n",
    "\n",
    "#Read in the data and see what you have.  Uncomment the fits.open line, and see which columns are wavelength and flux.\n",
    "hdul = fits.open('spec-4632-55644-0198.fits', memmap=True)  \n",
    "# hdul.info()\n",
    "data = hdul[1].data\n",
    "cols = hdul[1].columns\n",
    "#cols.info() # prints out the names of the columns\n",
    "#print(data[0]) # prints out the first row of data (first element of each of column)\n",
    "\n",
    "# Extract the wavelength (in units of \"log Angstroms\"), and flux (in units of \"10e-17 erg/s/cm^2/Angstrom\") \n",
    "# Call the wavelength \"wl\" and the flux \"flux\".  \n",
    "wavetmp = data.field('loglam')\n",
    "wl = 10**wavetmp  \n",
    "flux = data.field('flux') \n",
    "                     \n",
    "# Plot up the QSO spectrum. \n",
    "# call the plot parameter of \"drawstyle='steps-mid'\" to see exactly where the data points are.\n",
    "\n",
    "fig, ax = plt.subplots(figsize=(10,6))\n",
    "ax.plot(wl, flux,drawstyle='steps-mid')\n",
    "plt.axvline(x=4438, color='red')\n",
    "plt.axhline(y=2, color='red')\n",
    "plt.axvline(x=4438, color='red')\n",
    "plt.axvline(x=4380, color='green')\n",
    "plt.axvline(x=4515, color='green')\n",
    "ax.set(xlabel='Observed Wavelength (Angstroms)', xscale = 'linear', ylabel='Flux (x 10^-17 erg/s/cm^2/Ang)', yscale = 'linear')\n",
    "#fig.savefig('xyz.png')  #If you want to save the plot\n",
    "ax.set_xlim(3800, 5000)\n",
    "ax.set_ylim(-2,12)\n",
    "\n",
    "# Identify the Lya line at the QSO redshift, and the Lya forest.  What else do you identify?"
   ]
  },
  {
   "cell_type": "code",
   "execution_count": 4,
   "metadata": {},
   "outputs": [
    {
     "name": "stderr",
     "output_type": "stream",
     "text": [
      "WARNING: Model is linear in parameters; consider using linear fitting methods. [astropy.modeling.fitting]\n",
      "WARNING:astropy:Model is linear in parameters; consider using linear fitting methods.\n"
     ]
    },
    {
     "data": {
      "text/plain": [
       "<matplotlib.lines.Line2D at 0x1c1f1e3128>"
      ]
     },
     "execution_count": 4,
     "metadata": {},
     "output_type": "execute_result"
    },
    {
     "data": {
      "image/png": "[encoded data removed]",
      "text/plain": [
       "<Figure size 432x288 with 1 Axes>"
      ]
     },
     "metadata": {
      "needs_background": "light"
     },
     "output_type": "display_data"
    }
   ],
   "source": [
    "# We begin with some basic  imports:\n",
    "\n",
    "from astropy.io import fits\n",
    "from astropy import units as u\n",
    "import numpy as np\n",
    "from matplotlib import pyplot as plt\n",
    "from astropy.visualization import quantity_support\n",
    "from specutils.fitting import fit_generic_continuum\n",
    "#from specutils import SpectralRegion\n",
    "#from specutils.analysis import equivalent_width\n",
    "quantity_support()  # for getting units on the axes below  # doctest: +IGNORE_OUTPUT\n",
    "\n",
    "# Now we load the dataset from it's canonical source:\n",
    "\n",
    "f = fits.open('spec-4632-55644-0198.fits')  # doctest: +IGNORE_OUTPUT +REMOTE_DATA\n",
    "# The spectrum is in the second HDU of this file.\n",
    "specdata = f[1].data # doctest: +REMOTE_DATA\n",
    "f.close() # doctest: +REMOTE_DATA\n",
    "\n",
    "# Then we re-format this dataset into astropy quantities, and create a\n",
    "# `~specutils.Spectrum1D` object:\n",
    "\n",
    "from specutils import Spectrum1D\n",
    "lamb = 10**specdata['loglam'] * u.AA # doctest: +REMOTE_DATA\n",
    "flux = specdata['flux'] * 10**-17 * u.Unit('erg cm-2 s-1 AA-1') # doctest: +REMOTE_DATA\n",
    "spec = Spectrum1D(spectral_axis=lamb, flux=flux) # doctest: +REMOTE_DATA\n",
    "cont_norm_spec = spec / fit_generic_continuum(spec)(spec.spectral_axis)\n",
    "#equivalent_width(cont_norm_spec, regions=SpectralRegion(4380*u.AA, 4515*u.AA))\n",
    "# And we plot it:\n",
    "\n",
    "f, ax = plt.subplots()  # doctest: +IGNORE_OUTPUT\n",
    "#ax.step(spec.spectral_axis, spec.flux) # doctest: +IGNORE_OUTPUT\n",
    "#f, ax = plt.subplots()  # doctest: +IGNORE_OUTPUT\n",
    "ax.plot(cont_norm_spec.wavelength, cont_norm_spec.flux)  # doctest: +IGNORE_OUTPUT\n",
    "ax.set_xlim(400*u.nm, 490*u.nm)\n",
    "plt.axvline(x=4438, color='red')\n",
    "plt.axhline(y=1, color='red')\n",
    "plt.axvline(x=4438, color='red')\n",
    "plt.axvline(x=4380, color='green')\n",
    "plt.axvline(x=4515, color='green')\n"
   ]
  },
  {
   "cell_type": "code",
   "execution_count": 5,
   "metadata": {},
   "outputs": [
    {
     "data": {
      "text/latex": [
       "$-180.0412 \\; \\mathrm{\\mathring{A}}$"
      ],
      "text/plain": [
       "<Quantity -180.04120148 Angstrom>"
      ]
     },
     "execution_count": 5,
     "metadata": {},
     "output_type": "execute_result"
    }
   ],
   "source": [
    "from specutils import SpectralRegion\n",
    "from specutils.analysis import equivalent_width\n",
    "equivalent_width(cont_norm_spec, regions=SpectralRegion(4380*u.AA, 4515*u.AA))"
   ]
  },
  {
   "cell_type": "code",
   "execution_count": 18,
   "metadata": {},
   "outputs": [
    {
     "name": "stdout",
     "output_type": "stream",
     "text": [
      "4380.261 4515.4395\n",
      "2256.693115234375\n"
     ]
    }
   ],
   "source": [
    "wvlo=4380. #low end of peak#\n",
    "wvhi=4515. #high end of peak#\n",
    "Fc=2. #continuium level#\n",
    "W=0.\n",
    "\n",
    "#finding the nearest pixel corresponding to the wavelength selected#\n",
    "def find_nearest(wv,value):\n",
    "    idx= (np.abs(wv - value)).argmin()\n",
    "    return idx\n",
    "\n",
    "idxlo=(find_nearest(wl,wvlo))\n",
    "idxhi=(find_nearest(wl,wvhi))\n",
    "Fl=wl[idxlo] #F(lambda)#\n",
    "\n",
    "print( Fl , wl[idxhi]) #check the start and end values#\n",
    "\n",
    "#while loop that ends when Fl reaches wvhi#\n",
    "while (Fl < wl[idxhi]):\n",
    "    W = (abs(Fc - Fl)/Fc)\n",
    "    Fl += 0.125\n",
    "    #print(W)\n",
    "print(W) #print equivalent width#"
   ]
  },
  {
   "cell_type": "code",
   "execution_count": null,
   "metadata": {},
   "outputs": [],
   "source": []
  }
 ],
 "metadata": {
  "kernelspec": {
   "display_name": "Python 3",
   "language": "python",
   "name": "python3"
  },
  "language_info": {
   "codemirror_mode": {
    "name": "ipython",
    "version": 3
   },
   "file_extension": ".py",
   "mimetype": "text/x-python",
   "name": "python",
   "nbconvert_exporter": "python",
   "pygments_lexer": "ipython3",
   "version": "3.6.8"
  }
 },
 "nbformat": 4,
 "nbformat_minor": 2
}
